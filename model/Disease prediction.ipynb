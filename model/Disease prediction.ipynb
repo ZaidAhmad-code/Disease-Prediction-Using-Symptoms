{
 "cells": [
  {
   "cell_type": "code",
   "execution_count": 2,
   "id": "739b1093",
   "metadata": {},
   "outputs": [],
   "source": [
    "import numpy as np\n",
    "import pandas as pd \n",
    "import matplotlib.pyplot as plt"
   ]
  },
  {
   "cell_type": "code",
   "execution_count": 3,
   "id": "89ff6bb2",
   "metadata": {},
   "outputs": [],
   "source": [
    "df = pd.read_csv(\"C:\\\\Users\\\\Zaahid Ahmad\\\\Documents\\\\dataset.csv\")"
   ]
  },
  {
   "cell_type": "code",
   "execution_count": 4,
   "id": "7368caf2",
   "metadata": {},
   "outputs": [
    {
     "data": {
      "text/plain": [
       "Disease          0\n",
       "Symptom_1        0\n",
       "Symptom_2        0\n",
       "Symptom_3        0\n",
       "Symptom_4      348\n",
       "Symptom_5     1206\n",
       "Symptom_6     1986\n",
       "Symptom_7     2652\n",
       "Symptom_8     2976\n",
       "Symptom_9     3228\n",
       "Symptom_10    3408\n",
       "Symptom_11    3726\n",
       "Symptom_12    4176\n",
       "Symptom_13    4416\n",
       "Symptom_14    4614\n",
       "Symptom_15    4680\n",
       "Symptom_16    4728\n",
       "Symptom_17    4848\n",
       "dtype: int64"
      ]
     },
     "execution_count": 4,
     "metadata": {},
     "output_type": "execute_result"
    }
   ],
   "source": [
    "df.isnull().sum()"
   ]
  },
  {
   "cell_type": "code",
   "execution_count": 5,
   "id": "2009c184",
   "metadata": {},
   "outputs": [],
   "source": [
    "df.fillna('none', inplace=True)"
   ]
  },
  {
   "cell_type": "code",
   "execution_count": 6,
   "id": "27357df9",
   "metadata": {},
   "outputs": [
    {
     "data": {
      "text/plain": [
       "Disease       0\n",
       "Symptom_1     0\n",
       "Symptom_2     0\n",
       "Symptom_3     0\n",
       "Symptom_4     0\n",
       "Symptom_5     0\n",
       "Symptom_6     0\n",
       "Symptom_7     0\n",
       "Symptom_8     0\n",
       "Symptom_9     0\n",
       "Symptom_10    0\n",
       "Symptom_11    0\n",
       "Symptom_12    0\n",
       "Symptom_13    0\n",
       "Symptom_14    0\n",
       "Symptom_15    0\n",
       "Symptom_16    0\n",
       "Symptom_17    0\n",
       "dtype: int64"
      ]
     },
     "execution_count": 6,
     "metadata": {},
     "output_type": "execute_result"
    }
   ],
   "source": [
    "df.isnull().sum()"
   ]
  },
  {
   "cell_type": "code",
   "execution_count": 7,
   "id": "2a229744",
   "metadata": {},
   "outputs": [
    {
     "name": "stderr",
     "output_type": "stream",
     "text": [
      "C:\\Users\\Zaahid Ahmad\\AppData\\Local\\Temp\\ipykernel_5440\\2775180191.py:4: FutureWarning: DataFrame.applymap has been deprecated. Use DataFrame.map instead.\n",
      "  df[symptom_cols] = df[symptom_cols].applymap(lambda x: str(x).strip().lower())\n"
     ]
    }
   ],
   "source": [
    "symptom_cols = [col for col in df.columns if col.startswith('Symptom')]\n",
    "\n",
    "# Optional: normalize symptom strings (e.g., lowercase, strip spaces)\n",
    "df[symptom_cols] = df[symptom_cols].applymap(lambda x: str(x).strip().lower())\n",
    "\n",
    "# Combine symptoms into a single list per row (excluding 'none')\n",
    "df['all_symptoms'] = df[symptom_cols].values.tolist()\n",
    "df['all_symptoms'] = df['all_symptoms'].apply(lambda x: [s for s in x if s != 'none'])\n"
   ]
  },
  {
   "cell_type": "code",
   "execution_count": 8,
   "id": "c96de53f",
   "metadata": {},
   "outputs": [],
   "source": [
    "from sklearn.preprocessing import MultiLabelBinarizer\n",
    "\n",
    "mlb = MultiLabelBinarizer()\n",
    "X = mlb.fit_transform(df['all_symptoms'])\n"
   ]
  },
  {
   "cell_type": "code",
   "execution_count": 9,
   "id": "9bc59c22",
   "metadata": {},
   "outputs": [],
   "source": [
    "from sklearn.preprocessing import LabelEncoder\n",
    "\n",
    "le = LabelEncoder()\n",
    "y = le.fit_transform(df['Disease'])\n"
   ]
  },
  {
   "cell_type": "code",
   "execution_count": 10,
   "id": "3baf0b63",
   "metadata": {},
   "outputs": [
    {
     "name": "stdout",
     "output_type": "stream",
     "text": [
      "Accuracy: 1.0\n"
     ]
    }
   ],
   "source": [
    "from sklearn.model_selection import train_test_split\n",
    "from sklearn.ensemble import RandomForestClassifier\n",
    "from sklearn.metrics import accuracy_score\n",
    "\n",
    "X_train, X_test, y_train, y_test = train_test_split(X, y, test_size=0.2, random_state=42)\n",
    "\n",
    "model = RandomForestClassifier()\n",
    "model.fit(X_train, y_train)\n",
    "\n",
    "y_pred = model.predict(X_test)\n",
    "print(\"Accuracy:\", accuracy_score(y_test, y_pred))\n"
   ]
  },
  {
   "cell_type": "code",
   "execution_count": 11,
   "id": "cc35c6ff",
   "metadata": {},
   "outputs": [
    {
     "data": {
      "text/plain": [
       "['symptom_list.pkl']"
      ]
     },
     "execution_count": 11,
     "metadata": {},
     "output_type": "execute_result"
    }
   ],
   "source": [
    "import joblib\n",
    "\n",
    "joblib.dump(model, 'disease_model.pkl')\n",
    "joblib.dump(le, 'label_encoder.pkl')\n",
    "joblib.dump(mlb.classes_, 'symptom_list.pkl')  # required for form generation in Flask\n",
    "\n"
   ]
  },
  {
   "cell_type": "code",
   "execution_count": 12,
   "id": "d533c30b",
   "metadata": {},
   "outputs": [
    {
     "data": {
      "text/plain": [
       "['rf_model.pkl']"
      ]
     },
     "execution_count": 12,
     "metadata": {},
     "output_type": "execute_result"
    }
   ],
   "source": [
    "import joblib\n",
    "joblib.dump(model, 'rf_model.pkl')"
   ]
  },
  {
   "cell_type": "code",
   "execution_count": null,
   "id": "333c7a57",
   "metadata": {},
   "outputs": [],
   "source": []
  },
  {
   "cell_type": "code",
   "execution_count": null,
   "id": "1b4b0007",
   "metadata": {},
   "outputs": [],
   "source": []
  }
 ],
 "metadata": {
  "kernelspec": {
   "display_name": "venv",
   "language": "python",
   "name": "python3"
  },
  "language_info": {
   "codemirror_mode": {
    "name": "ipython",
    "version": 3
   },
   "file_extension": ".py",
   "mimetype": "text/x-python",
   "name": "python",
   "nbconvert_exporter": "python",
   "pygments_lexer": "ipython3",
   "version": "3.11.5"
  }
 },
 "nbformat": 4,
 "nbformat_minor": 5
}
