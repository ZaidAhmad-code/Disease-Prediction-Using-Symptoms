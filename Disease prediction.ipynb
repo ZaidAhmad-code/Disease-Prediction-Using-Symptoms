{
 "cells": [
  {
   "cell_type": "code",
   "execution_count": 2,
   "id": "739b1093",
   "metadata": {},
   "outputs": [],
   "source": [
    "import numpy as np\n",
    "import pandas as pd \n",
    "import matplotlib.pyplot as plt"
   ]
  },
  {
   "cell_type": "code",
   "execution_count": 7,
   "id": "89ff6bb2",
   "metadata": {},
   "outputs": [],
   "source": [
    "df = pd.read_csv(\"dataset.csv\")"
   ]
  },
  {
   "cell_type": "code",
   "execution_count": 10,
   "id": "7368caf2",
   "metadata": {},
   "outputs": [
    {
     "data": {
      "text/plain": [
       "Disease          0\n",
       "Symptom_1        0\n",
       "Symptom_2        0\n",
       "Symptom_3        0\n",
       "Symptom_4      348\n",
       "Symptom_5     1206\n",
       "Symptom_6     1986\n",
       "Symptom_7     2652\n",
       "Symptom_8     2976\n",
       "Symptom_9     3228\n",
       "Symptom_10    3408\n",
       "Symptom_11    3726\n",
       "Symptom_12    4176\n",
       "Symptom_13    4416\n",
       "Symptom_14    4614\n",
       "Symptom_15    4680\n",
       "Symptom_16    4728\n",
       "Symptom_17    4848\n",
       "dtype: int64"
      ]
     },
     "execution_count": 10,
     "metadata": {},
     "output_type": "execute_result"
    }
   ],
   "source": [
    "df.isnull().sum()"
   ]
  },
  {
   "cell_type": "code",
   "execution_count": 11,
   "id": "2009c184",
   "metadata": {},
   "outputs": [],
   "source": [
    "df.fillna('none', inplace=True)"
   ]
  },
  {
   "cell_type": "code",
   "execution_count": 12,
   "id": "27357df9",
   "metadata": {},
   "outputs": [
    {
     "data": {
      "text/plain": [
       "Disease       0\n",
       "Symptom_1     0\n",
       "Symptom_2     0\n",
       "Symptom_3     0\n",
       "Symptom_4     0\n",
       "Symptom_5     0\n",
       "Symptom_6     0\n",
       "Symptom_7     0\n",
       "Symptom_8     0\n",
       "Symptom_9     0\n",
       "Symptom_10    0\n",
       "Symptom_11    0\n",
       "Symptom_12    0\n",
       "Symptom_13    0\n",
       "Symptom_14    0\n",
       "Symptom_15    0\n",
       "Symptom_16    0\n",
       "Symptom_17    0\n",
       "dtype: int64"
      ]
     },
     "execution_count": 12,
     "metadata": {},
     "output_type": "execute_result"
    }
   ],
   "source": [
    "df.isnull().sum()"
   ]
  },
  {
   "cell_type": "code",
   "execution_count": 13,
   "id": "2a229744",
   "metadata": {},
   "outputs": [
    {
     "name": "stderr",
     "output_type": "stream",
     "text": [
      "C:\\Users\\Zaahid Ahmad\\AppData\\Local\\Temp\\ipykernel_18752\\2775180191.py:4: FutureWarning: DataFrame.applymap has been deprecated. Use DataFrame.map instead.\n",
      "  df[symptom_cols] = df[symptom_cols].applymap(lambda x: str(x).strip().lower())\n"
     ]
    }
   ],
   "source": [
    "symptom_cols = [col for col in df.columns if col.startswith('Symptom')]\n",
    "\n",
    "# Optional: normalize symptom strings (e.g., lowercase, strip spaces)\n",
    "df[symptom_cols] = df[symptom_cols].applymap(lambda x: str(x).strip().lower())\n",
    "\n",
    "# Combine symptoms into a single list per row (excluding 'none')\n",
    "df['all_symptoms'] = df[symptom_cols].values.tolist()\n",
    "df['all_symptoms'] = df['all_symptoms'].apply(lambda x: [s for s in x if s != 'none'])\n"
   ]
  },
  {
   "cell_type": "code",
   "execution_count": 14,
   "id": "c96de53f",
   "metadata": {},
   "outputs": [],
   "source": [
    "from sklearn.preprocessing import MultiLabelBinarizer\n",
    "\n",
    "mlb = MultiLabelBinarizer()\n",
    "X = mlb.fit_transform(df['all_symptoms'])\n"
   ]
  },
  {
   "cell_type": "code",
   "execution_count": 15,
   "id": "9bc59c22",
   "metadata": {},
   "outputs": [],
   "source": [
    "from sklearn.preprocessing import LabelEncoder\n",
    "\n",
    "le = LabelEncoder()\n",
    "y = le.fit_transform(df['Disease'])\n"
   ]
  },
  {
   "cell_type": "code",
   "execution_count": 16,
   "id": "3baf0b63",
   "metadata": {},
   "outputs": [
    {
     "ename": "ImportError",
     "evalue": "cannot import name 'train_test_splitittlit' from 'sklearn.model_selection' (C:\\Users\\Zaahid Ahmad\\anaconda3\\Lib\\site-packages\\sklearn\\model_selection\\__init__.py)",
     "output_type": "error",
     "traceback": [
      "\u001b[1;31m---------------------------------------------------------------------------\u001b[0m",
      "\u001b[1;31mImportError\u001b[0m                               Traceback (most recent call last)",
      "Cell \u001b[1;32mIn[16], line 1\u001b[0m\n\u001b[1;32m----> 1\u001b[0m \u001b[38;5;28;01mfrom\u001b[39;00m \u001b[38;5;21;01msklearn\u001b[39;00m\u001b[38;5;21;01m.\u001b[39;00m\u001b[38;5;21;01mmodel_selection\u001b[39;00m \u001b[38;5;28;01mimport\u001b[39;00m train_test_splitittlit\n\u001b[0;32m      2\u001b[0m \u001b[38;5;28;01mfrom\u001b[39;00m \u001b[38;5;21;01msklearn\u001b[39;00m\u001b[38;5;21;01m.\u001b[39;00m\u001b[38;5;21;01mensemble\u001b[39;00m \u001b[38;5;28;01mimport\u001b[39;00m RandomForestClassifier\n\u001b[0;32m      3\u001b[0m \u001b[38;5;28;01mfrom\u001b[39;00m \u001b[38;5;21;01msklearn\u001b[39;00m\u001b[38;5;21;01m.\u001b[39;00m\u001b[38;5;21;01mmetrics\u001b[39;00m \u001b[38;5;28;01mimport\u001b[39;00m accuracy_score\n",
      "\u001b[1;31mImportError\u001b[0m: cannot import name 'train_test_splitittlit' from 'sklearn.model_selection' (C:\\Users\\Zaahid Ahmad\\anaconda3\\Lib\\site-packages\\sklearn\\model_selection\\__init__.py)"
     ]
    }
   ],
   "source": [
    "from sklearn.model_selection import train_test_split\n",
    "from sklearn.ensemble import RandomForestClassifier\n",
    "from sklearn.metrics import accuracy_score\n",
    "\n",
    "x_trai , x"
   ]
  },
  {
   "cell_type": "code",
   "execution_count": null,
   "id": "cc35c6ff",
   "metadata": {},
   "outputs": [],
   "source": [
    "\n"
   ]
  }
 ],
 "metadata": {
  "kernelspec": {
   "display_name": "Python 3 (ipykernel)",
   "language": "python",
   "name": "python3"
  },
  "language_info": {
   "codemirror_mode": {
    "name": "ipython",
    "version": 3
   },
   "file_extension": ".py",
   "mimetype": "text/x-python",
   "name": "python",
   "nbconvert_exporter": "python",
   "pygments_lexer": "ipython3",
   "version": "3.11.5"
  }
 },
 "nbformat": 4,
 "nbformat_minor": 5
}
